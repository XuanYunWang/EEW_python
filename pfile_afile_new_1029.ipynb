{
 "cells": [
  {
   "cell_type": "code",
   "execution_count": 1,
   "metadata": {
    "colab": {
     "base_uri": "https://localhost:8080/",
     "height": 363
    },
    "colab_type": "code",
    "executionInfo": {
     "elapsed": 1811,
     "status": "error",
     "timestamp": 1588183033333,
     "user": {
      "displayName": "葉家豪",
      "photoUrl": "https://lh3.googleusercontent.com/a-/AOh14Gh8WUUpl0WZK9qheIGoL91DVQGbSeo-77XnvvQCoA=s64",
      "userId": "04632325769246561015"
     },
     "user_tz": -480
    },
    "id": "4gm8W4gqwDxz",
    "outputId": "ac2199ef-dce3-4668-a876-ba7b7c759eb1"
   },
   "outputs": [],
   "source": [
    "# coding: utf-8\n",
    "import re\n",
    "import math\n",
    "import csv\n",
    "import sys\n",
    "import os\n",
    "import struct\n",
    "import numpy as np\n",
    "import pandas as pd\n",
    "import matplotlib.pyplot as plt\n",
    "from datetime import datetime, timedelta\n",
    "from obspy import UTCDateTime, Stream, Trace\n",
    "\n",
    "%matplotlib inline"
   ]
  },
  {
   "cell_type": "code",
   "execution_count": 3,
   "metadata": {
    "colab": {},
    "colab_type": "code",
    "id": "YDnF25uNwDx7"
   },
   "outputs": [],
   "source": [
    "def unpackAfile(infile):\n",
    "\n",
    "# == opening Afile ==\n",
    "    b = os.path.getsize(infile)\n",
    "    FH = open(infile, 'rb')\n",
    "    line = FH.read(b)\n",
    "    fileHeader = struct.unpack(\"<4s3h6bh6s\", line[0:24])\n",
    "\n",
    "    fileLength = fileHeader[3]\n",
    "    port = fileHeader[10]\n",
    "    # FirstStn = fileHeader[11][0:4].decode('ASCII').rstrip()\n",
    "# =================================Header=================================\n",
    "\n",
    "    portHeader = []\n",
    "    for i in range(24, port * 32, 32):\n",
    "        port_data = struct.unpack(\"<4s4s3sbh2b4s12b\", line[i:i+32])\n",
    "        portHeader.append(port_data)\n",
    "\n",
    "# =================================Data===================================\n",
    "\n",
    "    dataStartByte = 24+int(port)*32\n",
    "    dataPoint = 3*int(port)*int(fileLength)*100\n",
    "    times = int(port)*3*4\n",
    "    data = []\n",
    "\n",
    "    data = struct.unpack(\"<%di\" % dataPoint, line[dataStartByte:dataStartByte + dataPoint*4])\n",
    "\n",
    "\n",
    "    portHeader = np.array(portHeader)\n",
    "    data = np.array(data)\n",
    "    idata = data.reshape((3,port,fileLength*100),order='F')\n",
    "\n",
    "#== write to obspy Stream --\n",
    "    sttime = UTCDateTime(fileHeader[1], fileHeader[4], fileHeader[5], fileHeader[6], fileHeader[7], fileHeader[8], fileHeader[2])\n",
    "    npts = fileHeader[3]*fileHeader[9]\n",
    "    samp = fileHeader[9]\n",
    "    afst = Stream()\n",
    "    \n",
    "    for stc in range(fileHeader[10]):\n",
    "        stn = portHeader[stc][0].decode('ASCII').rstrip()\n",
    "        instrument = portHeader[stc][1].decode('ASCII').rstrip()\n",
    "        loc = '0'+str(portHeader[stc][6].decode('ASCII'))\n",
    "        net = str(portHeader[stc][7].decode('ASCII')).rstrip()\n",
    "        GPS = int(portHeader[stc][3])\n",
    "        \n",
    "        # remove GPS unlock or broken station\n",
    "        if ( GPS == 1 or GPS == 2 ):\n",
    "            chc = 0\n",
    "            if instrument == 'FBA':\n",
    "                chc = 1\n",
    "            elif instrument == 'SP':\n",
    "                chc = 4\n",
    "            elif instrument == 'BB':\n",
    "                chc = 7\n",
    "            \n",
    "            for ch in range(3):\n",
    "                chn = 'Ch'+str(chc+ch)\n",
    "                \n",
    "                stats = {'network': net, 'station': stn, 'location': loc,\n",
    "                        'channel': chn, 'npts': npts, 'sampling_rate': samp,\n",
    "                        'starttime': sttime}\n",
    "                \n",
    "                data = np.array(idata[ch][stc], dtype=float)\n",
    "                sttmp = Stream([Trace(data=data, header=stats)])\n",
    "                afst += sttmp\n",
    "\n",
    "    return afst"
   ]
  },
  {
   "cell_type": "code",
   "execution_count": 4,
   "metadata": {},
   "outputs": [],
   "source": [
    "if True:\n",
    "    with open(\"17010623.P20\") as f:\n",
    "        lines = f.readlines()\n",
    "    \n",
    "    tmp = lines[0]\n",
    "    year = int(tmp[1:5])\n",
    "    month = int(tmp[5:7])\n",
    "    day = int(tmp[7:9])\n",
    "    hour = int(tmp[9:11])\n",
    "    minute = int(tmp[11:13])\n",
    "    sec = float(tmp[13:19])\n",
    "    \n",
    "    dt = datetime(year,month,day,hour,minute,int(sec//1),int(sec%1 * 1000000))\n",
    "    mag = float(tmp[40:44])\n",
    "\n",
    "    pfile_info = {}\n",
    "    pfile_info[\"ori_time\"] = dt\n",
    "    pfile_info[\"mag\"] = mag\n",
    "    \n",
    "    intensity = {}\n",
    "    arrival_time = {}\n",
    "    weighting = {}\n",
    "    pga = {}\n",
    "    \n",
    "    for i in lines[1:]:\n",
    "        sta = i[:5].strip() # strip 去掉左右空格\n",
    "        arrival_time[sta] = pfile_info[\"ori_time\"].replace(minute=int(i[21:23]),second=0,microsecond=0) + timedelta(seconds=float(i[23:29]))\n",
    "    "
   ]
  },
  {
   "cell_type": "code",
   "execution_count": 5,
   "metadata": {},
   "outputs": [
    {
     "data": {
      "text/plain": [
       "0.27999999999999997"
      ]
     },
     "execution_count": 5,
     "metadata": {},
     "output_type": "execute_result"
    }
   ],
   "source": [
    "arrival_time[\"ENA\"].microsecond * 10**-6"
   ]
  },
  {
   "cell_type": "code",
   "execution_count": 6,
   "metadata": {
    "colab": {},
    "colab_type": "code",
    "id": "Owvmwq9pwDx_"
   },
   "outputs": [],
   "source": [
    "def unpackPfile(infile):\n",
    "    \n",
    "    with open(infile) as f:\n",
    "        lines = f.readlines()\n",
    "    \n",
    "    tmp = lines[0]\n",
    "    year = int(tmp[1:5])\n",
    "    month = int(tmp[5:7])\n",
    "    day = int(tmp[7:9])\n",
    "    hour = int(tmp[9:11])\n",
    "    minute = int(tmp[11:13])\n",
    "    sec = float(tmp[13:19])\n",
    "    \n",
    "    lat_d = float(tmp[19:21])\n",
    "    lat_m = float(tmp[21:26])\n",
    "    \n",
    "    lon_d = float(tmp[26:29])\n",
    "    lon_m = float(tmp[29:34])\n",
    "    \n",
    "    dt = datetime(year,month,day,hour,minute,int(sec//1),int(sec%1 * 1000000))\n",
    "    mag = float(tmp[40:44])\n",
    "\n",
    "    pfile_info = {}\n",
    "    pfile_info[\"ori_time\"] = dt\n",
    "    pfile_info[\"mag\"] = mag\n",
    "    pfile_info[\"lat\"] = lat_d + lat_m/60.0\n",
    "    pfile_info[\"lon\"] = lon_d + lon_m/60.0\n",
    "    \n",
    "    intensity = {}\n",
    "    arrival_time = {}\n",
    "    weighting = {}\n",
    "    pga = {}\n",
    "    for i in lines[1:]:\n",
    "        sta = i[:5].strip() # strip 去掉左右空格\n",
    "        weighting[sta] = int(float(i[35:39]))\n",
    "        if i[76:77]==\" \":\n",
    "            intensity[sta] = int(0)\n",
    "        else:\n",
    "            intensity[sta] = int(i[76:77])\n",
    "        pga[sta] = float(i[78:83])\n",
    "        arrival_time[sta] = pfile_info[\"ori_time\"].replace(minute=int(i[21:23]),second=0,microsecond=0) + timedelta(seconds=float(i[23:29]))\n",
    "    pfile_info[\"intensity\"] = intensity\n",
    "    pfile_info[\"arrival_time\"] = arrival_time\n",
    "    pfile_info[\"weighting\"] = weighting\n",
    "    pfile_info[\"pga\"] = pga\n",
    "    \n",
    "    return pfile_info"
   ]
  },
  {
   "cell_type": "code",
   "execution_count": 7,
   "metadata": {
    "colab": {},
    "colab_type": "code",
    "id": "umNJY5XGwDyC"
   },
   "outputs": [],
   "source": [
    "Afile=unpackAfile(\"17010623.A20\")\n",
    "Pfile=unpackPfile(\"17010623.P20\")"
   ]
  },
  {
   "cell_type": "code",
   "execution_count": 8,
   "metadata": {},
   "outputs": [],
   "source": [
    "Pfile=unpackPfile(\"17010623.P20\")"
   ]
  },
  {
   "cell_type": "code",
   "execution_count": 9,
   "metadata": {
    "scrolled": true
   },
   "outputs": [],
   "source": [
    "Afile1=Afile.copy()"
   ]
  },
  {
   "cell_type": "code",
   "execution_count": 10,
   "metadata": {
    "scrolled": false
   },
   "outputs": [
    {
     "name": "stdout",
     "output_type": "stream",
     "text": [
      "ENA 4\n",
      "EHP 1\n",
      "ESA 2\n",
      "TWC 2\n",
      "NDS 2\n",
      "ETL 1\n",
      "ENT 1\n",
      "NDT 1\n",
      "ETLH 1\n",
      "NNS 1\n"
     ]
    }
   ],
   "source": [
    "#挑選震度大於等於1的測站\n",
    "station_list=[]\n",
    "for i,j in Pfile['intensity'].items():\n",
    "    if j >0:\n",
    "        station_list.append(i)\n",
    "        print(i,j)"
   ]
  },
  {
   "cell_type": "code",
   "execution_count": 11,
   "metadata": {
    "scrolled": true
   },
   "outputs": [
    {
     "name": "stdout",
     "output_type": "stream",
     "text": [
      "EHP\n",
      "ENT\n",
      "ESA\n",
      "ETL\n",
      "ETLH\n",
      "NDS\n",
      "NDT\n",
      "NNS\n",
      "TWC\n"
     ]
    }
   ],
   "source": [
    "#挑選channel=\"Ch1\",location=\"01\",震度大於等於1的測站\n",
    "st_list=[]\n",
    "for i in Afile1:\n",
    "    if i.stats.channel==\"Ch1\" and i.stats.location==\"01\" and i.stats.station in station_list:\n",
    "        st_list.append(i)\n",
    "        print(i.stats.station)"
   ]
  },
  {
   "cell_type": "code",
   "execution_count": 12,
   "metadata": {},
   "outputs": [
    {
     "data": {
      "text/plain": [
       "[SMT.EHP.01.Ch1 | 2020-05-01T06:23:30.000000Z - 2020-05-01T06:26:09.990000Z | 100.0 Hz, 16000 samples,\n",
       " SMT.ENT.01.Ch1 | 2020-05-01T06:23:30.000000Z - 2020-05-01T06:26:09.990000Z | 100.0 Hz, 16000 samples,\n",
       " BH.ESA.01.Ch1 | 2020-05-01T06:23:30.000000Z - 2020-05-01T06:26:09.990000Z | 100.0 Hz, 16000 samples,\n",
       " SMT.ETL.01.Ch1 | 2020-05-01T06:23:30.000000Z - 2020-05-01T06:26:09.990000Z | 100.0 Hz, 16000 samples,\n",
       " BH.ETLH.01.Ch1 | 2020-05-01T06:23:30.000000Z - 2020-05-01T06:26:09.990000Z | 100.0 Hz, 16000 samples,\n",
       " BH.NDS.01.Ch1 | 2020-05-01T06:23:30.000000Z - 2020-05-01T06:26:09.990000Z | 100.0 Hz, 16000 samples,\n",
       " BH.NDT.01.Ch1 | 2020-05-01T06:23:30.000000Z - 2020-05-01T06:26:09.990000Z | 100.0 Hz, 16000 samples,\n",
       " SMT.NNS.01.Ch1 | 2020-05-01T06:23:30.000000Z - 2020-05-01T06:26:09.990000Z | 100.0 Hz, 16000 samples,\n",
       " SMT.TWC.01.Ch1 | 2020-05-01T06:23:30.000000Z - 2020-05-01T06:26:09.990000Z | 100.0 Hz, 16000 samples]"
      ]
     },
     "execution_count": 12,
     "metadata": {},
     "output_type": "execute_result"
    }
   ],
   "source": [
    "st_list"
   ]
  },
  {
   "cell_type": "code",
   "execution_count": 13,
   "metadata": {
    "scrolled": false
   },
   "outputs": [],
   "source": [
    "#裁切時間\n",
    "st_time = UTCDateTime(\"2020-05-01T06:23:30\")\n",
    "ed_time = UTCDateTime(\"2020-05-01T06:24:15\")\n",
    "st_list_cut=Stream()\n",
    "for i in st_list:\n",
    "    st_list_cut = st_list_cut+i.slice(st_time,ed_time)\n",
    "    "
   ]
  },
  {
   "cell_type": "code",
   "execution_count": 14,
   "metadata": {
    "scrolled": true
   },
   "outputs": [
    {
     "name": "stdout",
     "output_type": "stream",
     "text": [
      "SMT.EHP.01.Ch1 | 2020-05-01T06:23:30.000000Z - 2020-05-01T06:24:15.000000Z | 100.0 Hz, 4501 samples\n",
      "SMT.ENT.01.Ch1 | 2020-05-01T06:23:30.000000Z - 2020-05-01T06:24:15.000000Z | 100.0 Hz, 4501 samples\n",
      "BH.ESA.01.Ch1 | 2020-05-01T06:23:30.000000Z - 2020-05-01T06:24:15.000000Z | 100.0 Hz, 4501 samples\n",
      "SMT.ETL.01.Ch1 | 2020-05-01T06:23:30.000000Z - 2020-05-01T06:24:15.000000Z | 100.0 Hz, 4501 samples\n",
      "BH.ETLH.01.Ch1 | 2020-05-01T06:23:30.000000Z - 2020-05-01T06:24:15.000000Z | 100.0 Hz, 4501 samples\n",
      "BH.NDS.01.Ch1 | 2020-05-01T06:23:30.000000Z - 2020-05-01T06:24:15.000000Z | 100.0 Hz, 4501 samples\n",
      "BH.NDT.01.Ch1 | 2020-05-01T06:23:30.000000Z - 2020-05-01T06:24:15.000000Z | 100.0 Hz, 4501 samples\n",
      "SMT.NNS.01.Ch1 | 2020-05-01T06:23:30.000000Z - 2020-05-01T06:24:15.000000Z | 100.0 Hz, 4501 samples\n",
      "SMT.TWC.01.Ch1 | 2020-05-01T06:23:30.000000Z - 2020-05-01T06:24:15.000000Z | 100.0 Hz, 4501 samples\n"
     ]
    }
   ],
   "source": [
    "for i in st_list_cut:\n",
    "    print(i)"
   ]
  },
  {
   "cell_type": "code",
   "execution_count": null,
   "metadata": {},
   "outputs": [],
   "source": []
  },
  {
   "cell_type": "code",
   "execution_count": 23,
   "metadata": {},
   "outputs": [],
   "source": [
    "#輸入測站資料,輸出Pd,PGV,理論PGV,震度,理論震度\n",
    "def st_Pd_PGV_I(st_list):\n",
    "    tr= st_list.copy()\n",
    "    station = st_list.stats.station\n",
    "    tr.data = tr.data * 3.1153**(-4)\n",
    "    tr.plot();\n",
    "    tr.integrate()\n",
    "    tr.detrend()\n",
    "\n",
    "    tr.filter('highpass', freq=1.0, corners=2, zerophase=True)\n",
    "    PGV_true = max(abs(tr.data))\n",
    "    tr.plot();\n",
    "    tr.integrate()\n",
    "    tr.detrend()\n",
    "    tr.filter('highpass', freq=1.0, corners=2, zerophase=True)\n",
    "    tr.plot();\n",
    "    ptime = Pfile[\"arrival_time\"][\"ETL\"]\n",
    "    Pfile[\"arrival_time\"][\"ETL\"]\n",
    "    ptime_obspy = UTCDateTime(ptime.year, ptime.month, ptime.day, ptime.hour, ptime.minute, ptime.second, ptime.microsecond)\n",
    "    parrival = int(( ptime_obspy - tr.stats.starttime ) * tr.stats.sampling_rate )\n",
    "    Pd=max(abs(tr.data[parrival:parrival+300]))\n",
    "    PGV_cal=10**(0.920*np.log10(Pd) +1.642)\n",
    "    for i,j in Pfile['intensity'].items():\n",
    "        if i == st_list.stats.station:\n",
    "            intensity_true = str(j)\n",
    "    intensity_cal = str(int(round(2.14*np.log10(PGV_cal)+1.89)))\n",
    "    st_Pd_PGV_I={}\n",
    "    st_Pd_PGV_I[\"station\"] = station\n",
    "    st_Pd_PGV_I[\"Pd\"]=Pd\n",
    "    st_Pd_PGV_I[\"PGV_true\"] = PGV_true\n",
    "    st_Pd_PGV_I[\"PGV_cal\"] = PGV_cal\n",
    "    st_Pd_PGV_I[\"intensity_true\"] = intensity_true\n",
    "    st_Pd_PGV_I[\"intensity_cal\"] = intensity_cal\n",
    "    plt.plot(tr)\n",
    "    plt.title(st_list.stats.station)\n",
    "    plt.savefig(st_list.stats.station+\".jpg\")\n",
    "    return st_Pd_PGV_I\n",
    "    plt.show()"
   ]
  },
  {
   "cell_type": "code",
   "execution_count": 16,
   "metadata": {},
   "outputs": [
    {
     "data": {
      "text/plain": [
       "         network: SMT\n",
       "         station: EHP\n",
       "        location: 01\n",
       "         channel: Ch1\n",
       "       starttime: 2020-05-01T06:23:30.000000Z\n",
       "         endtime: 2020-05-01T06:26:09.990000Z\n",
       "   sampling_rate: 100.0\n",
       "           delta: 0.01\n",
       "            npts: 16000\n",
       "           calib: 1.0"
      ]
     },
     "execution_count": 16,
     "metadata": {},
     "output_type": "execute_result"
    }
   ],
   "source": [
    "st_list[0].stats"
   ]
  },
  {
   "cell_type": "code",
   "execution_count": 25,
   "metadata": {},
   "outputs": [],
   "source": [
    "tr= st_list[3].copy()\n",
    "station = st_list[3].stats.station\n",
    "tr.data = tr.data * 3.1153**(-4)\n",
    "tr.integrate()\n",
    "tr.detrend()\n",
    "tr.filter('highpass', freq=1.0, corners=2, zerophase=True)\n",
    "PGV_true = max(abs(tr.data))\n",
    "tr.integrate()\n",
    "tr.detrend()\n",
    "tr.filter('highpass', freq=1.0, corners=2, zerophase=True)\n",
    "ptime = Pfile[\"arrival_time\"][\"ETL\"]\n",
    "Pfile[\"arrival_time\"][\"ETL\"]\n",
    "ptime_obspy = UTCDateTime(ptime.year, ptime.month, ptime.day, ptime.hour, ptime.minute, ptime.second, ptime.microsecond)\n",
    "parrival = int(( ptime_obspy - tr.stats.starttime ) * tr.stats.sampling_rate )\n",
    "Pd=max(abs(tr.data[parrival:parrival+300]))\n",
    "PGV_cal=10**(0.920*np.log10(Pd) +1.642)\n",
    "for i,j in Pfile['intensity'].items():\n",
    "    if i == st_list[3].stats.station:\n",
    "        intensity_true = str(j)\n",
    "intensity_cal = str(int(round(2.14*np.log10(PGV_cal)+1.89)))\n"
   ]
  },
  {
   "cell_type": "code",
   "execution_count": 26,
   "metadata": {
    "scrolled": true
   },
   "outputs": [
    {
     "data": {
      "text/plain": [
       "2956"
      ]
     },
     "execution_count": 26,
     "metadata": {},
     "output_type": "execute_result"
    }
   ],
   "source": [
    "parrival"
   ]
  },
  {
   "cell_type": "code",
   "execution_count": 40,
   "metadata": {},
   "outputs": [
    {
     "data": {
      "text/plain": [
       "2020-05-01T06:23:30.000000Z"
      ]
     },
     "execution_count": 40,
     "metadata": {},
     "output_type": "execute_result"
    }
   ],
   "source": [
    "tr.stats.starttime"
   ]
  },
  {
   "cell_type": "code",
   "execution_count": 39,
   "metadata": {},
   "outputs": [
    {
     "data": {
      "text/plain": [
       "datetime.datetime(2020, 5, 1, 6, 23, 59, 560000)"
      ]
     },
     "execution_count": 39,
     "metadata": {},
     "output_type": "execute_result"
    }
   ],
   "source": [
    "ptime"
   ]
  },
  {
   "cell_type": "code",
   "execution_count": 30,
   "metadata": {
    "scrolled": true
   },
   "outputs": [
    {
     "ename": "AttributeError",
     "evalue": "'numpy.ndarray' object has no attribute 'index'",
     "output_type": "error",
     "traceback": [
      "\u001b[1;31m---------------------------------------------------------------------------\u001b[0m",
      "\u001b[1;31mAttributeError\u001b[0m                            Traceback (most recent call last)",
      "\u001b[1;32m<ipython-input-30-b9ff59ad34c8>\u001b[0m in \u001b[0;36m<module>\u001b[1;34m\u001b[0m\n\u001b[0;32m      1\u001b[0m \u001b[0ma\u001b[0m\u001b[1;33m=\u001b[0m\u001b[0mmax\u001b[0m\u001b[1;33m(\u001b[0m\u001b[0mabs\u001b[0m\u001b[1;33m(\u001b[0m\u001b[0mtr\u001b[0m\u001b[1;33m.\u001b[0m\u001b[0mdata\u001b[0m\u001b[1;33m)\u001b[0m\u001b[1;33m)\u001b[0m\u001b[1;33m\u001b[0m\u001b[1;33m\u001b[0m\u001b[0m\n\u001b[1;32m----> 2\u001b[1;33m \u001b[0mtr\u001b[0m\u001b[1;33m.\u001b[0m\u001b[0mdata\u001b[0m\u001b[1;33m.\u001b[0m\u001b[0mindex\u001b[0m\u001b[1;33m(\u001b[0m\u001b[0ma\u001b[0m\u001b[1;33m)\u001b[0m\u001b[1;33m\u001b[0m\u001b[1;33m\u001b[0m\u001b[0m\n\u001b[0m",
      "\u001b[1;31mAttributeError\u001b[0m: 'numpy.ndarray' object has no attribute 'index'"
     ]
    }
   ],
   "source": [
    "a=max(abs(tr.data))\n",
    "tr.data.index(a)"
   ]
  },
  {
   "cell_type": "code",
   "execution_count": 43,
   "metadata": {
    "scrolled": true
   },
   "outputs": [],
   "source": [
    "max_time=np.argmax(abs(tr.data))"
   ]
  },
  {
   "cell_type": "code",
   "execution_count": 46,
   "metadata": {},
   "outputs": [
    {
     "data": {
      "text/plain": [
       "0.20000000000000001"
      ]
     },
     "execution_count": 46,
     "metadata": {},
     "output_type": "execute_result"
    }
   ],
   "source": [
    "max_time=np.argmax(abs(tr.data))\n",
    "(max_time-parrival)/tr.stats.sampling_rate"
   ]
  },
  {
   "cell_type": "code",
   "execution_count": 45,
   "metadata": {},
   "outputs": [
    {
     "data": {
      "text/plain": [
       "100.0"
      ]
     },
     "execution_count": 45,
     "metadata": {},
     "output_type": "execute_result"
    }
   ],
   "source": [
    "tr.stats.sampling_rate"
   ]
  },
  {
   "cell_type": "code",
   "execution_count": 33,
   "metadata": {
    "scrolled": true
   },
   "outputs": [
    {
     "data": {
      "text/plain": [
       "2976"
      ]
     },
     "execution_count": 33,
     "metadata": {},
     "output_type": "execute_result"
    }
   ],
   "source": [
    "np.argmax(tr.data)"
   ]
  },
  {
   "cell_type": "code",
   "execution_count": 36,
   "metadata": {},
   "outputs": [],
   "source": [
    "ss=[1,-5,4]\n",
    "ss1=np.array(ss)"
   ]
  },
  {
   "cell_type": "code",
   "execution_count": 42,
   "metadata": {},
   "outputs": [
    {
     "data": {
      "text/plain": [
       "1"
      ]
     },
     "execution_count": 42,
     "metadata": {},
     "output_type": "execute_result"
    }
   ],
   "source": [
    "np.argmin(ss1)"
   ]
  },
  {
   "cell_type": "code",
   "execution_count": 24,
   "metadata": {},
   "outputs": [
    {
     "data": {
      "image/png": "[encoded data removed]",
      "text/plain": [
       "<Figure size 800x250 with 1 Axes>"
      ]
     },
     "metadata": {
      "needs_background": "light"
     },
     "output_type": "display_data"
    },
    {
     "data": {
      "image/png": "[encoded data removed]",
      "text/plain": [
       "<Figure size 800x250 with 1 Axes>"
      ]
     },
     "metadata": {
      "needs_background": "light"
     },
     "output_type": "display_data"
    },
    {
     "data": {
      "image/png": "[encoded data removed]",
      "text/plain": [
       "<Figure size 800x250 with 1 Axes>"
      ]
     },
     "metadata": {
      "needs_background": "light"
     },
     "output_type": "display_data"
    },
    {
     "data": {
      "text/plain": [
       "{'station': 'EHP',\n",
       " 'Pd': 0.024111240852022507,\n",
       " 'PGV_true': 0.89347686957649253,\n",
       " 'PGV_cal': 1.4244329014396149,\n",
       " 'intensity_true': '1',\n",
       " 'intensity_cal': '2'}"
      ]
     },
     "execution_count": 24,
     "metadata": {},
     "output_type": "execute_result"
    },
    {
     "data": {
      "image/png": "[encoded data removed]",
      "text/plain": [
       "<Figure size 432x288 with 1 Axes>"
      ]
     },
     "metadata": {
      "needs_background": "light"
     },
     "output_type": "display_data"
    }
   ],
   "source": [
    "st_Pd_PGV_I(st_list_cut[0])"
   ]
  },
  {
   "cell_type": "code",
   "execution_count": 20,
   "metadata": {
    "scrolled": false
   },
   "outputs": [
    {
     "data": {
      "text/html": [
       "<div>\n",
       "<style scoped>\n",
       "    .dataframe tbody tr th:only-of-type {\n",
       "        vertical-align: middle;\n",
       "    }\n",
       "\n",
       "    .dataframe tbody tr th {\n",
       "        vertical-align: top;\n",
       "    }\n",
       "\n",
       "    .dataframe thead th {\n",
       "        text-align: right;\n",
       "    }\n",
       "</style>\n",
       "<table border=\"1\" class=\"dataframe\">\n",
       "  <thead>\n",
       "    <tr style=\"text-align: right;\">\n",
       "      <th></th>\n",
       "      <th>station</th>\n",
       "      <th>Pd</th>\n",
       "      <th>PGV_true</th>\n",
       "      <th>PGV_cal</th>\n",
       "      <th>intensity_true</th>\n",
       "      <th>intensity_cal</th>\n",
       "    </tr>\n",
       "  </thead>\n",
       "  <tbody>\n",
       "    <tr>\n",
       "      <th>0</th>\n",
       "      <td>EHP</td>\n",
       "      <td>0.024111</td>\n",
       "      <td>0.893477</td>\n",
       "      <td>1.424433</td>\n",
       "      <td>1</td>\n",
       "      <td>2</td>\n",
       "    </tr>\n",
       "    <tr>\n",
       "      <th>1</th>\n",
       "      <td>ENT</td>\n",
       "      <td>0.010347</td>\n",
       "      <td>0.533479</td>\n",
       "      <td>0.654081</td>\n",
       "      <td>1</td>\n",
       "      <td>1</td>\n",
       "    </tr>\n",
       "    <tr>\n",
       "      <th>2</th>\n",
       "      <td>ESA</td>\n",
       "      <td>0.082248</td>\n",
       "      <td>4.946434</td>\n",
       "      <td>4.404673</td>\n",
       "      <td>2</td>\n",
       "      <td>3</td>\n",
       "    </tr>\n",
       "    <tr>\n",
       "      <th>3</th>\n",
       "      <td>ETL</td>\n",
       "      <td>0.005969</td>\n",
       "      <td>0.227041</td>\n",
       "      <td>0.394332</td>\n",
       "      <td>1</td>\n",
       "      <td>1</td>\n",
       "    </tr>\n",
       "    <tr>\n",
       "      <th>4</th>\n",
       "      <td>ETLH</td>\n",
       "      <td>0.006127</td>\n",
       "      <td>0.518884</td>\n",
       "      <td>0.403889</td>\n",
       "      <td>1</td>\n",
       "      <td>1</td>\n",
       "    </tr>\n",
       "    <tr>\n",
       "      <th>5</th>\n",
       "      <td>NDS</td>\n",
       "      <td>0.016331</td>\n",
       "      <td>1.289289</td>\n",
       "      <td>0.995333</td>\n",
       "      <td>2</td>\n",
       "      <td>2</td>\n",
       "    </tr>\n",
       "    <tr>\n",
       "      <th>6</th>\n",
       "      <td>NDT</td>\n",
       "      <td>0.006341</td>\n",
       "      <td>0.408260</td>\n",
       "      <td>0.416829</td>\n",
       "      <td>1</td>\n",
       "      <td>1</td>\n",
       "    </tr>\n",
       "    <tr>\n",
       "      <th>7</th>\n",
       "      <td>NNS</td>\n",
       "      <td>0.001577</td>\n",
       "      <td>0.346726</td>\n",
       "      <td>0.115884</td>\n",
       "      <td>1</td>\n",
       "      <td>0</td>\n",
       "    </tr>\n",
       "    <tr>\n",
       "      <th>8</th>\n",
       "      <td>TWC</td>\n",
       "      <td>0.017287</td>\n",
       "      <td>1.235356</td>\n",
       "      <td>1.048805</td>\n",
       "      <td>2</td>\n",
       "      <td>2</td>\n",
       "    </tr>\n",
       "  </tbody>\n",
       "</table>\n",
       "</div>"
      ],
      "text/plain": [
       "  station        Pd  PGV_true   PGV_cal intensity_true intensity_cal\n",
       "0     EHP  0.024111  0.893477  1.424433              1             2\n",
       "1     ENT  0.010347  0.533479  0.654081              1             1\n",
       "2     ESA  0.082248  4.946434  4.404673              2             3\n",
       "3     ETL  0.005969  0.227041  0.394332              1             1\n",
       "4    ETLH  0.006127  0.518884  0.403889              1             1\n",
       "5     NDS  0.016331  1.289289  0.995333              2             2\n",
       "6     NDT  0.006341  0.408260  0.416829              1             1\n",
       "7     NNS  0.001577  0.346726  0.115884              1             0\n",
       "8     TWC  0.017287  1.235356  1.048805              2             2"
      ]
     },
     "execution_count": 20,
     "metadata": {},
     "output_type": "execute_result"
    },
    {
     "data": {
      "image/png": "[encoded data removed]",
      "text/plain": [
       "<Figure size 432x288 with 1 Axes>"
      ]
     },
     "metadata": {
      "needs_background": "light"
     },
     "output_type": "display_data"
    }
   ],
   "source": [
    "#寫成pandas\n",
    "scores=[]\n",
    "for i in st_list:\n",
    "    scores.append(st_Pd_PGV_I(i))\n",
    "    st_Pd_PGV_I(i)\n",
    "    df1 = pd.DataFrame(scores)\n",
    "df1\n"
   ]
  },
  {
   "cell_type": "code",
   "execution_count": 15,
   "metadata": {
    "scrolled": true
   },
   "outputs": [],
   "source": [
    "#讀取測站資料\n",
    "with open(\"c:\\\\datasrc\\\\hypo3d.sta\",\"r\") as fp:\n",
    "    fp.readline()\n",
    "    stalist=fp.readlines()"
   ]
  },
  {
   "cell_type": "code",
   "execution_count": 16,
   "metadata": {},
   "outputs": [],
   "source": [
    "#讀取測站經緯\n",
    "stainfo={}\n",
    "for i in stalist:\n",
    "    i=i.strip()\n",
    "    #print(i)\n",
    "\n",
    "    lat_d = float(i[4:6])\n",
    "    lat_m = float(i[6:11])\n",
    "    lon_d = float(i[11:14])\n",
    "    lon_m = float(i[14:19])\n",
    "\n",
    "    lat = lat_d + lat_m/60.0\n",
    "    lon = lon_d + lon_m/60.0\n",
    "    sta = i.split()[-1]\n",
    "    stainfo[sta]=[lon , lat]\n",
    "    "
   ]
  },
  {
   "cell_type": "code",
   "execution_count": 17,
   "metadata": {},
   "outputs": [],
   "source": [
    "sta_lalon={}\n",
    "for i in df1['station']:\n",
    "    if i in stainfo.keys():\n",
    "        sta_lalon[i]=stainfo[i]\n",
    "sta_lalon['ESA']=[121.8439,24.5757]\n"
   ]
  },
  {
   "cell_type": "code",
   "execution_count": 18,
   "metadata": {},
   "outputs": [],
   "source": [
    "#將測站經緯寫成txt檔\n",
    "with open(\"lonlat.txt\",\"w\") as fp:\n",
    "    for i in sta_lalon.keys():\n",
    "        fp.write(str(sta_lalon[i][0])+\" \"+str(sta_lalon[i][1])+\"\\n\")"
   ]
  },
  {
   "cell_type": "code",
   "execution_count": 19,
   "metadata": {},
   "outputs": [],
   "source": [
    "#將地震經緯寫成txt檔\n",
    "with open(\"E_lonlat.txt\",\"w\") as fp:\n",
    "    ff=str(Pfile[\"lon\"])+\" \"+str(Pfile[\"lat\"])\n",
    "    fp.write(ff)"
   ]
  },
  {
   "cell_type": "code",
   "execution_count": 20,
   "metadata": {},
   "outputs": [],
   "source": [
    "##將測站震度寫成txt檔\n",
    "with open(\"intensity.txt\",\"w\") as fp:\n",
    "    j==0\n",
    "    for i in sta_lalon.keys():\n",
    "        fp.write(str(sta_lalon[i][0])+\" \"+str(sta_lalon[i][1]-0.02)+\" \"+\"(\"+str(df1.iloc[j,4])+\",\"+str(df1.iloc[j,5])+\")\"+\"\\n\")\n",
    "        j=j+1\n",
    "        "
   ]
  },
  {
   "cell_type": "code",
   "execution_count": 21,
   "metadata": {},
   "outputs": [],
   "source": [
    "with open(\"1119plot.bat\",\"w\") as fp:\n",
    "    fp.write(\"gmt begin 1119_U10710019 png \\n\")\n",
    "    fp.write(\"    gmt psbasemap -R121/122.2/24/24.8 -JM6i -Ba1f0.5 \\n\")\n",
    "    fp.write(\"    gmt plot TaiwanCOunty.gmt -R121/122.2/24/24.8 -JM6i \\n\")\n",
    "    fp.write(\"    gmt plot lonlat.txt -R121/122.2/24/24.8 -St0.5 -G255/255/0 \\n\")\n",
    "    fp.write(\"    gmt plot E_lonlat.txt -R121/122.2/24/24.8 -Sa0.5 -G255/0/0  \\n\")\n",
    "    fp.write(\"    gmt text intensity.txt -R121/122.2/24/24.8  \\n\")\n",
    "    fp.write(\"gmt end show\")\n",
    "    \n",
    "\n"
   ]
  },
  {
   "cell_type": "code",
   "execution_count": 21,
   "metadata": {},
   "outputs": [
    {
     "data": {
      "text/plain": [
       "0"
      ]
     },
     "execution_count": 21,
     "metadata": {},
     "output_type": "execute_result"
    }
   ],
   "source": [
    "os.system(\"1119plot.bat\")"
   ]
  },
  {
   "cell_type": "code",
   "execution_count": null,
   "metadata": {},
   "outputs": [],
   "source": []
  },
  {
   "cell_type": "code",
   "execution_count": null,
   "metadata": {},
   "outputs": [],
   "source": []
  }
 ],
 "metadata": {
  "colab": {
   "name": "pfile_afile_new.ipynb",
   "provenance": []
  },
  "kernelspec": {
   "display_name": "Python 3",
   "language": "python",
   "name": "python3"
  },
  "language_info": {
   "codemirror_mode": {
    "name": "ipython",
    "version": 3
   },
   "file_extension": ".py",
   "mimetype": "text/x-python",
   "name": "python",
   "nbconvert_exporter": "python",
   "pygments_lexer": "ipython3",
   "version": "3.7.6"
  }
 },
 "nbformat": 4,
 "nbformat_minor": 1
}
