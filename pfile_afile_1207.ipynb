{
 "cells": [
  {
   "cell_type": "code",
   "execution_count": 52,
   "metadata": {},
   "outputs": [],
   "source": [
    "# coding: utf-8\n",
    "import re\n",
    "import math\n",
    "import csv\n",
    "import sys\n",
    "import os\n",
    "import struct\n",
    "import numpy as np\n",
    "import matplotlib.pyplot as plt\n",
    "from datetime import datetime, timedelta\n",
    "from obspy import UTCDateTime, Stream, Trace\n",
    "\n",
    "%matplotlib inline"
   ]
  },
  {
   "cell_type": "code",
   "execution_count": 53,
   "metadata": {},
   "outputs": [],
   "source": [
    "def unpackAfile(infile):\n",
    "\n",
    "# == opening Afile ==\n",
    "    b = os.path.getsize(infile)\n",
    "    FH = open(infile, 'rb')\n",
    "    line = FH.read(b)\n",
    "    fileHeader = struct.unpack(\"<4s3h6bh6s\", line[0:24])\n",
    "\n",
    "    fileLength = fileHeader[3]\n",
    "    port = fileHeader[10]\n",
    "    # FirstStn = fileHeader[11][0:4].decode('ASCII').rstrip()\n",
    "# =================================Header=================================\n",
    "\n",
    "    portHeader = []\n",
    "    for i in range(24, port * 32, 32):\n",
    "        port_data = struct.unpack(\"<4s4s3sbh2b4s12b\", line[i:i+32])\n",
    "        portHeader.append(port_data)\n",
    "\n",
    "# =================================Data===================================\n",
    "\n",
    "    dataStartByte = 24+int(port)*32\n",
    "    dataPoint = 3*int(port)*int(fileLength)*100\n",
    "    times = int(port)*3*4\n",
    "    data = []\n",
    "\n",
    "    data = struct.unpack(\"<%di\" % dataPoint, line[dataStartByte:dataStartByte + dataPoint*4])\n",
    "\n",
    "\n",
    "    portHeader = np.array(portHeader)\n",
    "    data = np.array(data)\n",
    "    idata = data.reshape((3,port,fileLength*100),order='F')\n",
    "\n",
    "#== write to obspy Stream --\n",
    "    sttime = UTCDateTime(fileHeader[1], fileHeader[4], fileHeader[5], fileHeader[6], fileHeader[7], fileHeader[8], fileHeader[2])\n",
    "    npts = fileHeader[3]*fileHeader[9]\n",
    "    samp = fileHeader[9]\n",
    "    afst = Stream()\n",
    "    \n",
    "    for stc in range(fileHeader[10]):\n",
    "        stn = portHeader[stc][0].decode('ASCII').rstrip()\n",
    "        instrument = portHeader[stc][1].decode('ASCII').rstrip()\n",
    "        loc = '0'+str(portHeader[stc][6].decode('ASCII'))\n",
    "        net = str(portHeader[stc][7].decode('ASCII')).rstrip()\n",
    "        GPS = int(portHeader[stc][3])\n",
    "        \n",
    "        # remove GPS unlock or broken station\n",
    "        if ( GPS == 1 or GPS == 2 ):\n",
    "            chc = 0\n",
    "            if instrument == 'FBA':\n",
    "                chc = 1\n",
    "            elif instrument == 'SP':\n",
    "                chc = 4\n",
    "            elif instrument == 'BB':\n",
    "                chc = 7\n",
    "            \n",
    "            for ch in range(3):\n",
    "                chn = 'Ch'+str(chc+ch)\n",
    "                \n",
    "                stats = {'network': net, 'station': stn, 'location': loc,\n",
    "                        'channel': chn, 'npts': npts, 'sampling_rate': samp,\n",
    "                        'starttime': sttime}\n",
    "                \n",
    "                data = np.array(idata[ch][stc], dtype=float)\n",
    "                sttmp = Stream([Trace(data=data, header=stats)])\n",
    "                afst += sttmp\n",
    "\n",
    "    return afst"
   ]
  },
  {
   "cell_type": "code",
   "execution_count": 54,
   "metadata": {},
   "outputs": [],
   "source": [
    "def unpackPfile(infile):\n",
    "    \n",
    "    with open(infile) as f:\n",
    "        lines = f.readlines()\n",
    "    \n",
    "    tmp = lines[0]\n",
    "    year = int(tmp[1:5])\n",
    "    month = int(tmp[5:7])\n",
    "    day = int(tmp[7:9])\n",
    "    hour = int(tmp[9:11])\n",
    "    minute = int(tmp[11:13])\n",
    "    sec = float(tmp[13:19])\n",
    "    \n",
    "    lat_d = float(tmp[19:21])\n",
    "    lat_m = float(tmp[21:26])\n",
    "    \n",
    "    lon_d = float(tmp[26:29])\n",
    "    lon_m = float(tmp[29:34])\n",
    "    \n",
    "    dt = datetime(year,month,day,hour,minute,int(sec//1),int(sec%1 * 1000000))\n",
    "    mag = float(tmp[40:44])\n",
    "\n",
    "    pfile_info = {}\n",
    "    pfile_info[\"ori_time\"] = dt\n",
    "    pfile_info[\"mag\"] = mag\n",
    "    pfile_info[\"lat\"] = lat_d + lat_m/60.0\n",
    "    pfile_info[\"lon\"] = lon_d + lon_m/60.0\n",
    "    \n",
    "    intensity = {}\n",
    "    arrival_time = {}\n",
    "    weighting = {}\n",
    "    pga = {}\n",
    "    for i in lines[1:]:\n",
    "        sta = i[:5].strip() # strip 去掉左右空格\n",
    "        weighting[sta] = int(float(i[35:39]))\n",
    "        if i[76:77]==\" \":\n",
    "            intensity[sta] = int(0)\n",
    "        else:\n",
    "            intensity[sta] = int(i[76:77])\n",
    "        if i[78:83]==\"     \":\n",
    "            pga[sta] = int(0)\n",
    "        else:\n",
    "            pga[sta] = (i[78:83])\n",
    "        arrival_time[sta] = pfile_info[\"ori_time\"].replace(minute=int(i[21:23]),second=0,microsecond=0) + timedelta(seconds=float(i[23:29]))\n",
    "        arrival_time[sta].microsecond * 10**-6\n",
    "    pfile_info[\"intensity\"] = intensity\n",
    "    pfile_info[\"arrival_time\"] = arrival_time\n",
    "\n",
    "    pfile_info[\"weighting\"] = weighting\n",
    "    pfile_info[\"pga\"] = pga\n",
    "    \n",
    "    return pfile_info"
   ]
  },
  {
   "cell_type": "code",
   "execution_count": 55,
   "metadata": {},
   "outputs": [],
   "source": [
    "def batch_showname(path):\n",
    "    afile_name=[]\n",
    "    pfile_name=[]\n",
    "    for fname in os.listdir(path):\n",
    "        if fname[-3]==\"A\":\n",
    "            afile_name.append(fname)\n",
    "        if fname[-3]==\"P\":\n",
    "            pfile_name.append(fname)\n",
    "    return afile_name,pfile_name"
   ]
  },
  {
   "cell_type": "code",
   "execution_count": 56,
   "metadata": {},
   "outputs": [],
   "source": [
    "def st_Pd_PGV_I(Afile,Pfile):\n",
    "    \n",
    "    station_list=[]\n",
    "    for i,j in Pfile['intensity'].items():\n",
    "        if j >0:\n",
    "            station_list.append(i)\n",
    "    st_list_all=[]\n",
    "    for i in Afile:\n",
    "        if i.stats.channel==\"Ch1\" and i.stats.location==\"01\" and i.stats.station in station_list:\n",
    "            st_list_all.append(i)\n",
    "    scores=[]\n",
    "    for st_list in st_list_all:\n",
    "        tr= st_list.copy()\n",
    "        tr.detrend()\n",
    "        station = st_list.stats.station\n",
    "        tr.data = tr.data * 3.1153**(-4)\n",
    "        tr.integrate()\n",
    "        tr.detrend()\n",
    "        tr.filter('highpass', freq=1.0, corners=2, zerophase=True)\n",
    "        PGV_true = max(abs(tr.data))\n",
    "        tr.plot();\n",
    "        tr.integrate()\n",
    "        tr.detrend()\n",
    "        tr.filter('highpass', freq=1.0, corners=2, zerophase=True)\n",
    "        tr.plot();\n",
    "        ptime = Pfile[\"arrival_time\"][station]\n",
    "        Pfile[\"arrival_time\"][station]\n",
    "        ptime_obspy = UTCDateTime(ptime.year, ptime.month, ptime.day, ptime.hour, ptime.minute, ptime.second, ptime.microsecond)\n",
    "        parrival = int(( ptime_obspy - tr.stats.starttime ) * tr.stats.sampling_rate )\n",
    "        Pd=max(abs(tr.data[parrival:parrival+300]))\n",
    "        PGV_cal=10**(0.920*np.log10(Pd) +1.642)\n",
    "        for i,j in Pfile['intensity'].items():\n",
    "            if i == st_list.stats.station:\n",
    "                intensity_true = str(j)\n",
    "        for i,j in Pfile['pga'].items():\n",
    "            if i == st_list.stats.station:\n",
    "                PGA = str(j)\n",
    "        if int(round(2.14*np.log10(PGV_cal)+1.89))>=0:\n",
    "            intensity_cal=str(int(round(2.14*np.log10(PGV_cal)+1.89)))\n",
    "        else:\n",
    "            intensity_cal=str(0)\n",
    "        max_time=np.argmax(abs(tr.data))\n",
    "        l_time = ((max_time-parrival)/tr.stats.sampling_rate)-3\n",
    "        st_Pd_PGV_I={}\n",
    "        st_Pd_PGV_I[\"station\"] = station\n",
    "        st_Pd_PGV_I[\"Pd\"] = Pd\n",
    "        st_Pd_PGV_I[\"PGA\"] = PGA\n",
    "        st_Pd_PGV_I[\"PGV_true\"] = PGV_true\n",
    "        st_Pd_PGV_I[\"PGV_cal\"] = PGV_cal\n",
    "        st_Pd_PGV_I[\"I_true\"] = intensity_true\n",
    "        st_Pd_PGV_I[\"I_cal\"] = intensity_cal\n",
    "        st_Pd_PGV_I[\"l_time\"] = l_time\n",
    "        scores.append(st_Pd_PGV_I)\n",
    "        df1 = pd.DataFrame(scores)\n",
    "    return df1,st_list_all"
   ]
  },
  {
   "cell_type": "code",
   "execution_count": 57,
   "metadata": {},
   "outputs": [],
   "source": [
    "def station_data(df1,Pfile):\n",
    "    #讀取測站資料\n",
    "    with open(\"c:\\\\datasrc\\\\hypo3d.sta\",\"r\") as fp:\n",
    "        fp.readline()\n",
    "        stalist=fp.readlines()\n",
    "    stainfo={}\n",
    "    for i in stalist:\n",
    "        i=i.strip()\n",
    "        #print(i)\n",
    "\n",
    "        lat_d = float(i[4:6])\n",
    "        lat_m = float(i[6:11])\n",
    "        lon_d = float(i[11:14])\n",
    "        lon_m = float(i[14:19])\n",
    "\n",
    "        lat = lat_d + lat_m/60.0\n",
    "        lon = lon_d + lon_m/60.0\n",
    "        sta = i.split()[-1]\n",
    "        stainfo[sta]=[lon , lat]\n",
    "    sta_lalon={}\n",
    "    for i in df1['station']:\n",
    "        if i in stainfo.keys():\n",
    "            sta_lalon[i]=stainfo[i]\n",
    "    for i in st_Pd_PGV_I(Afile,Pfile)['station']:\n",
    "        if i==\"ESA\":\n",
    "            sta_lalon['ESA']=[121.8439,24.5757]\n",
    "    with open(\"lonlat.txt\",\"w\") as fp:\n",
    "        for i in sta_lalon.keys():\n",
    "            fp.write(str(sta_lalon[i][0])+\" \"+str(sta_lalon[i][1])+\"\\n\")\n",
    "    aa=sta_lalon\n",
    "    lon_max=0.0\n",
    "    lon_min=180.0\n",
    "    for i in aa.values():\n",
    "        if i[0]>lon_max:\n",
    "            lon_max=i[0]\n",
    "        if i[0]<lon_min:\n",
    "            lon_min=i[0]\n",
    "    lat_max=0.0\n",
    "    lat_min=90.0\n",
    "    for i in aa.values():\n",
    "        if i[1]>lat_max:\n",
    "            lat_max=i[1]\n",
    "        if i[1]<lat_min:\n",
    "            lat_min=i[1]\n",
    "    #將地震經緯寫成txt檔\n",
    "    with open(\"E_lonlat.txt\",\"w\") as fp:\n",
    "        ff=str(Pfile[\"lon\"])+\" \"+str(Pfile[\"lat\"])\n",
    "        fp.write(ff)\n",
    "    with open(\"intensity.txt\",\"w\") as fp:\n",
    "        j=0\n",
    "        for i in sta_lalon.keys():\n",
    "            fp.write(str(sta_lalon[i][0])+\" \"+str(sta_lalon[i][1]-0.02)+\" \"+\"(\"+str(df1.iloc[j,5])+\",\"+str(df1.iloc[j,6])+\",\"+str(df1.iloc[j,7])+\")\"+\"\\n\")\n",
    "            j=j+1\n",
    "    return lon_max,lon_min,lat_max,lat_min"
   ]
  },
  {
   "cell_type": "code",
   "execution_count": 58,
   "metadata": {},
   "outputs": [],
   "source": [
    "def accuracy(data):\n",
    "    true=0\n",
    "    false=0\n",
    "    all_data=len(data)\n",
    "    for i in data.index:\n",
    "        if data.loc[i,\"I_true\"] == data.loc[i,\"I_cal\"]:\n",
    "            true=true+1\n",
    "        else:\n",
    "            false=false+1\n",
    "    true_rate=true/all_data\n",
    "    false_rate=false/all_data\n",
    "    return true_rate,false_rate"
   ]
  },
  {
   "cell_type": "code",
   "execution_count": 59,
   "metadata": {},
   "outputs": [],
   "source": [
    "def accuracy_2(data):\n",
    "    true=0\n",
    "    false=0\n",
    "    all_data=len(data)\n",
    "    for i in data.index:\n",
    "        if data.loc[i,\"I_true\"] == data.loc[i,\"I_cal\"] or int(data.loc[i,\"I_true\"])+1 == int(data.loc[i,\"I_cal\"]) or int(data.loc[i,\"I_true\"])-1 == int(data.loc[i,\"I_cal\"]):\n",
    "            true=true+1\n",
    "        else:\n",
    "            false=false+1\n",
    "    true_rate=true/all_data\n",
    "    false_rate=false/all_data\n",
    "    return true_rate,false_rate"
   ]
  },
  {
   "cell_type": "code",
   "execution_count": 60,
   "metadata": {},
   "outputs": [],
   "source": [
    "path = (\"D:\\\\專題\\\\Utaipei-Seismology-master\\\\EEW-for-urban-area\\\\2015-felt-01\")\n",
    "path_1 = (\"D:\\\\專題\\\\Utaipei-Seismology-master\\\\EEW-for-urban-area\\\\2015-felt-01\\\\\")"
   ]
  },
  {
   "cell_type": "code",
   "execution_count": 61,
   "metadata": {},
   "outputs": [],
   "source": [
    "Afile=unpackAfile(path_1+batch_showname(path)[0][11])\n",
    "Pfile=unpackPfile(path_1+batch_showname(path)[1][11])"
   ]
  },
  {
   "cell_type": "code",
   "execution_count": 62,
   "metadata": {},
   "outputs": [
    {
     "name": "stderr",
     "output_type": "stream",
     "text": [
      "C:\\ProgramData\\Anaconda3\\lib\\site-packages\\obspy\\imaging\\util.py:275: UserWarning: AutoDateLocator was unable to pick an appropriate interval for this date range. It may be necessary to add an interval value to the AutoDateLocator's intervald dictionary. Defaulting to 30.\n",
      "  plt.setp(ax.get_xticklabels(), fontsize='small')\n",
      "C:\\ProgramData\\Anaconda3\\lib\\site-packages\\obspy\\imaging\\waveform.py:820: UserWarning: AutoDateLocator was unable to pick an appropriate interval for this date range. It may be necessary to add an interval value to the AutoDateLocator's intervald dictionary. Defaulting to 30.\n",
      "  plt.setp(ax.get_xticklabels(), fontsize='small',\n"
     ]
    },
    {
     "data": {
      "image/png": "[encoded data removed]",
      "text/plain": [
       "<Figure size 800x250 with 1 Axes>"
      ]
     },
     "metadata": {
      "needs_background": "light"
     },
     "output_type": "display_data"
    },
    {
     "name": "stderr",
     "output_type": "stream",
     "text": [
      "C:\\ProgramData\\Anaconda3\\lib\\site-packages\\obspy\\imaging\\util.py:275: UserWarning: AutoDateLocator was unable to pick an appropriate interval for this date range. It may be necessary to add an interval value to the AutoDateLocator's intervald dictionary. Defaulting to 30.\n",
      "  plt.setp(ax.get_xticklabels(), fontsize='small')\n",
      "C:\\ProgramData\\Anaconda3\\lib\\site-packages\\obspy\\imaging\\waveform.py:820: UserWarning: AutoDateLocator was unable to pick an appropriate interval for this date range. It may be necessary to add an interval value to the AutoDateLocator's intervald dictionary. Defaulting to 30.\n",
      "  plt.setp(ax.get_xticklabels(), fontsize='small',\n"
     ]
    },
    {
     "data": {
      "image/png": "[encoded data removed]",
      "text/plain": [
       "<Figure size 800x250 with 1 Axes>"
      ]
     },
     "metadata": {
      "needs_background": "light"
     },
     "output_type": "display_data"
    },
    {
     "ename": "NameError",
     "evalue": "name 'pd' is not defined",
     "output_type": "error",
     "traceback": [
      "\u001b[1;31m---------------------------------------------------------------------------\u001b[0m",
      "\u001b[1;31mNameError\u001b[0m                                 Traceback (most recent call last)",
      "\u001b[1;32m<ipython-input-62-52bc882e1167>\u001b[0m in \u001b[0;36m<module>\u001b[1;34m\u001b[0m\n\u001b[1;32m----> 1\u001b[1;33m \u001b[0mst_Pd_PGV_I\u001b[0m\u001b[1;33m(\u001b[0m\u001b[0mAfile\u001b[0m\u001b[1;33m,\u001b[0m\u001b[0mPfile\u001b[0m\u001b[1;33m)\u001b[0m\u001b[1;33m\u001b[0m\u001b[1;33m\u001b[0m\u001b[0m\n\u001b[0m",
      "\u001b[1;32m<ipython-input-56-6d9d1f570cee>\u001b[0m in \u001b[0;36mst_Pd_PGV_I\u001b[1;34m(Afile, Pfile)\u001b[0m\n\u001b[0;32m     52\u001b[0m         \u001b[0mst_Pd_PGV_I\u001b[0m\u001b[1;33m[\u001b[0m\u001b[1;34m\"l_time\"\u001b[0m\u001b[1;33m]\u001b[0m \u001b[1;33m=\u001b[0m \u001b[0ml_time\u001b[0m\u001b[1;33m\u001b[0m\u001b[1;33m\u001b[0m\u001b[0m\n\u001b[0;32m     53\u001b[0m         \u001b[0mscores\u001b[0m\u001b[1;33m.\u001b[0m\u001b[0mappend\u001b[0m\u001b[1;33m(\u001b[0m\u001b[0mst_Pd_PGV_I\u001b[0m\u001b[1;33m)\u001b[0m\u001b[1;33m\u001b[0m\u001b[1;33m\u001b[0m\u001b[0m\n\u001b[1;32m---> 54\u001b[1;33m         \u001b[0mdf1\u001b[0m \u001b[1;33m=\u001b[0m \u001b[0mpd\u001b[0m\u001b[1;33m.\u001b[0m\u001b[0mDataFrame\u001b[0m\u001b[1;33m(\u001b[0m\u001b[0mscores\u001b[0m\u001b[1;33m)\u001b[0m\u001b[1;33m\u001b[0m\u001b[1;33m\u001b[0m\u001b[0m\n\u001b[0m\u001b[0;32m     55\u001b[0m     \u001b[1;32mreturn\u001b[0m \u001b[0mdf1\u001b[0m\u001b[1;33m,\u001b[0m\u001b[0mst_list_all\u001b[0m\u001b[1;33m\u001b[0m\u001b[1;33m\u001b[0m\u001b[0m\n",
      "\u001b[1;31mNameError\u001b[0m: name 'pd' is not defined"
     ]
    }
   ],
   "source": [
    "st_Pd_PGV_I(Afile,Pfile)"
   ]
  },
  {
   "cell_type": "code",
   "execution_count": null,
   "metadata": {
    "scrolled": true
   },
   "outputs": [],
   "source": [
    "scores=[]\n",
    "for i in range(len(batch_showname(path)[0])):\n",
    "    Afile=unpackAfile(path_1+batch_showname(path)[0][i])\n",
    "    Pfile=unpackPfile(path_1+batch_showname(path)[1][i])\n",
    "    data=st_Pd_PGV_I(Afile,Pfile)\n",
    "    print(batch_showname(path)[0][i][0:-4])\n",
    "    for i in range(len(data)):\n",
    "        if float(data.iloc[i,3])<0.001:\n",
    "            data.drop([i], inplace=True)\n",
    "            break    \n",
    "    if len(data)>3:\n",
    "        print(data)\n",
    "        print(\"測站數量：\"+str(len(data)))\n",
    "        print(\"正確率：\"+str(accuracy(data)[0]))\n",
    "        print(\"錯誤率：\"+str(accuracy(data)[1]))\n",
    "        print(\"正負一\")\n",
    "        print(\"正確率：\"+str(accuracy_2(data)[0]))\n",
    "        print(\"錯誤率：\"+str(accuracy_2(data)[1]))\n",
    "        accuracy_11={}\n",
    "        accuracy_11[\"accuracy\"]=accuracy(data)[0]\n",
    "        accuracy_11[\"loss\"]=accuracy(data)[1]\n",
    "        accuracy_11[\"accuracy_1\"]=accuracy_2(data)[0]\n",
    "        accuracy_11[\"loss_1\"]=accuracy_2(data)[1]\n",
    "        \n",
    "        \n",
    "        scores.append(accuracy_11)\n",
    "        df = pd.DataFrame(scores)\n",
    "        print(\"----------------------------------------------------------------------------------------\")"
   ]
  },
  {
   "cell_type": "code",
   "execution_count": null,
   "metadata": {
    "scrolled": true
   },
   "outputs": [],
   "source": [
    "for i in range(len(batch_showname(path)[0])):\n",
    "    Afile=unpackAfile(path_1+batch_showname(path)[0][i])\n",
    "    Pfile=unpackPfile(path_1+batch_showname(path)[1][i])\n",
    "    print(\"讀檔完成\")\n",
    "    file=batch_showname(path)[0][i][0:-4]\n",
    "    station_data(st_Pd_PGV_I(Afile,Pfile),Pfile)\n",
    "    lon_max=(station_data(st_Pd_PGV_I(Afile,Pfile),Pfile))[0]\n",
    "    lon_min=(station_data(st_Pd_PGV_I(Afile,Pfile),Pfile))[1]\n",
    "    lat_max=(station_data(st_Pd_PGV_I(Afile,Pfile),Pfile))[2]\n",
    "    lat_min=(station_data(st_Pd_PGV_I(Afile,Pfile),Pfile))[3]\n",
    "    print(\"繪圖中...\")\n",
    "\n",
    "    with open(\"1207plot.bat\",\"w\") as fp:\n",
    "        fp.write(f\"gmt begin {file} png \\n\")\n",
    "        fp.write(f\"    gmt psbasemap -R{lon_min-0.3}/{lon_max+0.3}/{lat_min-0.2}/{lat_max+0.2} -JM6i -Ba0.5f0.5 \\n\")\n",
    "        fp.write(f\"    gmt plot TaiwanCOunty.gmt -R{lon_min-0.3}/{lon_max+0.3}/{lat_min-0.2}/{lat_max+0.2} -JM6i \\n\")\n",
    "        fp.write(f\"    gmt plot lonlat.txt -R{lon_min-0.3}/{lon_max+0.3}/{lat_min-0.2}/{lat_max+0.2} -St0.5 -G255/255/0 \\n\")\n",
    "        fp.write(f\"    gmt plot E_lonlat.txt -R{lon_min-0.3}/{lon_max+0.3}/{lat_min-0.2}/{lat_max+0.2} -Sa0.5 -G255/0/0  \\n\")\n",
    "        fp.write(f\"    gmt text intensity.txt -R{lon_min-0.3}/{lon_max+0.3}/{lat_min-0.2}/{lat_max+0.2}  \\n\")\n",
    "        fp.write(f\"gmt end show\")\n",
    "    os.system(\"1207plot.bat\")\n",
    "\n",
    "    print(file+\"圖檔完成\")\n",
    "    print(\"----------------------\")"
   ]
  },
  {
   "cell_type": "code",
   "execution_count": null,
   "metadata": {},
   "outputs": [],
   "source": [
    "#https://scweb.cwb.gov.tw/zh-tw/station"
   ]
  },
  {
   "cell_type": "code",
   "execution_count": null,
   "metadata": {},
   "outputs": [],
   "source": []
  },
  {
   "cell_type": "code",
   "execution_count": null,
   "metadata": {},
   "outputs": [],
   "source": []
  },
  {
   "cell_type": "code",
   "execution_count": null,
   "metadata": {},
   "outputs": [],
   "source": []
  },
  {
   "cell_type": "code",
   "execution_count": null,
   "metadata": {},
   "outputs": [],
   "source": []
  },
  {
   "cell_type": "code",
   "execution_count": null,
   "metadata": {},
   "outputs": [],
   "source": []
  },
  {
   "cell_type": "code",
   "execution_count": null,
   "metadata": {},
   "outputs": [],
   "source": []
  }
 ],
 "metadata": {
  "kernelspec": {
   "display_name": "Python 3",
   "language": "python",
   "name": "python3"
  },
  "language_info": {
   "codemirror_mode": {
    "name": "ipython",
    "version": 3
   },
   "file_extension": ".py",
   "mimetype": "text/x-python",
   "name": "python",
   "nbconvert_exporter": "python",
   "pygments_lexer": "ipython3",
   "version": "3.7.6"
  }
 },
 "nbformat": 4,
 "nbformat_minor": 4
}
